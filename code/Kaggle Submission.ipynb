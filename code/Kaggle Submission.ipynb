{
 "cells": [
  {
   "cell_type": "code",
   "execution_count": 1,
   "id": "045cc3b8",
   "metadata": {},
   "outputs": [],
   "source": [
    "#Using this nb to clean my test csv of nulls so..\n",
    "\n",
    "import numpy as np\n",
    "import pandas as pd\n",
    "import matplotlib.pyplot as plt"
   ]
  },
  {
   "cell_type": "code",
   "execution_count": 2,
   "id": "e6ef8ed2",
   "metadata": {},
   "outputs": [],
   "source": [
    "ames = pd.read_csv('../data/test.csv')"
   ]
  },
  {
   "cell_type": "code",
   "execution_count": 24,
   "id": "c9dbe340",
   "metadata": {},
   "outputs": [],
   "source": [
    "ames.head()\n",
    "pd.set_option('display.max_rows', None)"
   ]
  },
  {
   "cell_type": "code",
   "execution_count": 4,
   "id": "a8cb7d04",
   "metadata": {},
   "outputs": [],
   "source": [
    "#Same cleaning as training data. Copy and paste\n",
    "lf_mean = ames['Lot Frontage'].mean()\n",
    "ames['Lot Frontage']= ames['Lot Frontage'].fillna(round(lf_mean))\n",
    "ames['Alley'] = ames['Alley'].fillna('None')\n",
    "ames['Mas Vnr Type'] = ames['Mas Vnr Type'].fillna('None')\n",
    "ames['Mas Vnr Area']=ames['Mas Vnr Area'].fillna(0)\n",
    "ames['Bsmt Qual'] = ames['Bsmt Qual'].fillna(\"None\")\n",
    "ames['Bsmt Cond'] = ames['Bsmt Cond'].fillna('None')\n",
    "ames['Bsmt Exposure'] =ames['Bsmt Exposure'].fillna('No')\n",
    "ames['BsmtFin Type 1'] =ames['BsmtFin Type 1'].fillna(\"Unf\")\n",
    "ames['BsmtFin Type 2'] =ames['BsmtFin Type 2'].fillna(\"Unf\")\n",
    "ames['BsmtFin SF 1']= ames['BsmtFin SF 1'].fillna(0) \n",
    "ames['BsmtFin SF 2'] = ames['BsmtFin SF 2'].fillna(0)\n",
    "ames['Bsmt Unf SF'] = ames['Bsmt Unf SF'].fillna(0)\n",
    "ames['Total Bsmt SF'] = ames['Total Bsmt SF'].fillna(0)\n",
    "ames['Bsmt Full Bath'] = ames['Bsmt Full Bath'].fillna(0)\n",
    "ames['Bsmt Half Bath'] = ames['Bsmt Half Bath'].fillna(0)\n",
    "ames['Garage Cars'] = ames['Garage Cars'].fillna(0)           \n",
    "ames['Garage Area'] = ames['Garage Area'].fillna(0)\n",
    "ames['Fireplace Qu'] =  ames['Fireplace Qu'].fillna('No')\n",
    "ames['Pool QC'] = ames['Pool QC'].fillna('No')\n",
    "ames['Fence'] = ames['Fence'].fillna('No')\n",
    "ames['Misc Feature'] = ames['Misc Feature'].fillna('No')\n",
    "ames['Garage Finish'] = ames['Garage Finish'].fillna('None')\n",
    "ames['Garage Qual'] = ames['Garage Finish'].fillna('None')\n",
    "ames['Garage Cond'] = ames['Garage Cond'].fillna('None')\n",
    "ames['Garage Type'] = ames['Garage Type'].fillna('None')\n",
    "ames['Garage Cars'] = ames['Garage Cars'].fillna(0)\n",
    "ames['Garage Area'] = ames['Garage Area'].fillna(0)\n",
    "y_built = ames['Garage Yr Blt'].mean()\n",
    "ames['Garage Yr Blt'] = ames['Garage Yr Blt'].fillna(round(y_built))"
   ]
  },
  {
   "cell_type": "code",
   "execution_count": 5,
   "id": "043e7e29",
   "metadata": {},
   "outputs": [
    {
     "data": {
      "text/plain": [
       "Id              0\n",
       "PID             0\n",
       "MS SubClass     0\n",
       "MS Zoning       0\n",
       "Lot Frontage    0\n",
       "               ..\n",
       "Misc Feature    0\n",
       "Misc Val        0\n",
       "Mo Sold         0\n",
       "Yr Sold         0\n",
       "Sale Type       0\n",
       "Length: 80, dtype: int64"
      ]
     },
     "execution_count": 5,
     "metadata": {},
     "output_type": "execute_result"
    }
   ],
   "source": [
    "ames.isnull().sum()"
   ]
  },
  {
   "cell_type": "code",
   "execution_count": 6,
   "id": "15b56436",
   "metadata": {},
   "outputs": [],
   "source": [
    "ames.columns = ames.columns.str.replace(\" \", \"_\")\n",
    "ames.columns = ames.columns.str.lower()"
   ]
  },
  {
   "cell_type": "code",
   "execution_count": 7,
   "id": "8a25cdf5",
   "metadata": {},
   "outputs": [],
   "source": [
    "clean = ames[['id', 'pid', 'ms_subclass', 'ms_zoning', 'lot_frontage', 'lot_area',\n",
    "       'lot_shape', 'land_contour', 'utilities', 'land_slope', 'overall_qual',\n",
    "       'overall_cond', 'year_built', 'year_remod/add', 'mas_vnr_area',\n",
    "       'exter_qual', 'exter_cond', 'bsmt_qual', 'bsmt_cond', 'bsmt_exposure',\n",
    "       'bsmtfin_type_1', 'bsmtfin_sf_1', 'bsmtfin_type_2', 'bsmtfin_sf_2',\n",
    "       'bsmt_unf_sf', 'total_bsmt_sf', 'heating_qc', 'central_air',\n",
    "       'electrical', '1st_flr_sf', '2nd_flr_sf', 'low_qual_fin_sf',\n",
    "       'gr_liv_area', 'bsmt_full_bath', 'bsmt_half_bath', 'full_bath',\n",
    "       'half_bath', 'bedroom_abvgr', 'kitchen_abvgr', 'kitchen_qual',\n",
    "       'totrms_abvgrd', 'functional', 'fireplaces', 'fireplace_qu',\n",
    "       'garage_yr_blt', 'garage_finish', 'garage_cars', 'garage_area',\n",
    "       'garage_qual', 'garage_cond', 'paved_drive', 'wood_deck_sf',\n",
    "       'open_porch_sf', 'enclosed_porch', '3ssn_porch', 'screen_porch',\n",
    "       'pool_area', 'pool_qc', 'fence', 'misc_val', 'mo_sold', 'yr_sold'\n",
    "       ]]"
   ]
  },
  {
   "cell_type": "code",
   "execution_count": null,
   "id": "6ba88ff2",
   "metadata": {},
   "outputs": [],
   "source": []
  },
  {
   "cell_type": "code",
   "execution_count": 8,
   "id": "e273631a",
   "metadata": {},
   "outputs": [],
   "source": [
    "grdex = np.where(ames['gr_liv_area']>4000)\n",
    "ames = ames.drop(ames.index[grdex])"
   ]
  },
  {
   "cell_type": "code",
   "execution_count": 9,
   "id": "326bb13a",
   "metadata": {},
   "outputs": [],
   "source": [
    "fdex=np.where(ames['fireplaces']>2.9)\n",
    "ames = ames.drop(ames.index[fdex])"
   ]
  },
  {
   "cell_type": "code",
   "execution_count": 10,
   "id": "2469071f",
   "metadata": {},
   "outputs": [],
   "source": [
    "#Getting the test set ready for modeling. Copy and paste for the most part\n",
    "ordinal_change = ames[['lot_shape','utilities','land_slope','exter_qual','exter_cond','bsmt_qual','bsmt_cond',\n",
    "                       'bsmt_exposure', 'bsmtfin_type_1','bsmtfin_type_2',\n",
    "                       'heating_qc','electrical','kitchen_qual','functional','fireplace_qu','garage_finish',\n",
    "                        'garage_qual','garage_cond','paved_drive','pool_qc','fence','central_air']]\n",
    "\n",
    "#lot shape\n",
    "lot_s_o = {'Reg':4, 'IR1':3,'IR2':2,'IR3':1}\n",
    "\n",
    "#Utilities\n",
    "util_o = {'AllPub':4,'NoSewr':3,'NoSeWa':2,'ELO':1}\n",
    "\n",
    "#land_slope\n",
    "land_s_o = {'Gtl':3,'Mod':2,'Sev':1}\n",
    "\n",
    "#bsmt_fin1/2\n",
    "bsmt_o = {'GLQ':6,'ALQ':5,'BLQ':4,'Rec':3,'LwQ':2,'Unf':1 }\n",
    "          \n",
    "#bsmt_exposure\n",
    "bs_e_o = {'Av': 3,'Mn': 2,'No': 1}\n",
    "          \n",
    "\n",
    "#functional-this one was a little difficult to construct\n",
    "func_o = {'Typ':4,'Min1':3,'Min2':2,'Mod':2,'Maj1':1,'Maj2':1,'Sev':0,'Sal':0}\n",
    "\n",
    "#paved drive\n",
    "p_d_o = {'Y' : 2,'P' : 1,'N' : 0}\n",
    "          \n",
    "#fence\n",
    "fence_o = {'GdPrv':4,'MnPrv':3,'GdWo':2,'MnWw':1}\n",
    "\n",
    "#Electrical\n",
    "elec_o = {'SBrkr':4,'FuseA':3,'FuseF':2,'FuseP':1,'Mix':0}\n",
    "\n",
    "#garage_finish\n",
    "ga_f_o = {'Fin': 3,'RFn': 2,'Unf':1}\n",
    "\n",
    "#central air(non ordinal but needs numeric)\n",
    "c_o = {'N':0, 'Y':1}\n",
    "\n",
    "#Getting to the other columns. They have the same scale\n",
    "all_o = {'Ex': 5,'Gd': 4,'TA': 3,'Fa': 2,'Po': 1,'None': 0}\n",
    "\n",
    "full_ordinal = {**all_o, **c_o, **ga_f_o, **elec_o, **fence_o, **p_d_o, **func_o,\n",
    "                **bs_e_o, **bsmt_o, **land_s_o, **util_o, **lot_s_o}\n",
    "                \n",
    "for i in ordinal_change.columns:\n",
    "    ames = ames.replace({i: full_ordinal})"
   ]
  },
  {
   "cell_type": "code",
   "execution_count": 12,
   "id": "c4c9bf10",
   "metadata": {},
   "outputs": [],
   "source": [
    "zone = ['A','C','I', 'FV', 'C (all)', 'A (agr)', 'I (all)']\n",
    "ames = ames[ames.ms_zoning.isin(zone)== False]\n",
    "\n",
    "ames['ms_zoning'] = ames['ms_zoning'].map({'RH': 4, 'RL':3, \"RP\":2, 'RM':1})\n",
    "ames['land_contour'] = ames['land_contour'].map({'HLS': 4, 'Bnk':3, \"Lvl\":2, 'Low':1})"
   ]
  },
  {
   "cell_type": "code",
   "execution_count": null,
   "id": "a93479ca",
   "metadata": {},
   "outputs": [],
   "source": [
    "ames = ames.drop(columns = ['lot_shape','fence','kitchen_abvgr','enclosed_porch','overall_cond',\n",
    "                           'ms_subclass','land_slope','bsmt_half_bath','low_qual_fin_sf','yr_sold',\n",
    "                           'bsmtfin_type_2','misc_val'])"
   ]
  },
  {
   "cell_type": "code",
   "execution_count": 29,
   "id": "91344178",
   "metadata": {},
   "outputs": [
    {
     "data": {
      "text/plain": [
       "(825, 79)"
      ]
     },
     "execution_count": 29,
     "metadata": {},
     "output_type": "execute_result"
    }
   ],
   "source": [
    "ames.shape"
   ]
  },
  {
   "cell_type": "code",
   "execution_count": 17,
   "id": "c085fd5a",
   "metadata": {
    "collapsed": true
   },
   "outputs": [
    {
     "ename": "KeyError",
     "evalue": "\"['pid'] not found in axis\"",
     "output_type": "error",
     "traceback": [
      "\u001b[1;31m---------------------------------------------------------------------------\u001b[0m",
      "\u001b[1;31mKeyError\u001b[0m                                  Traceback (most recent call last)",
      "\u001b[1;32m~\\AppData\\Local\\Temp\\ipykernel_16828\\4024685252.py\u001b[0m in \u001b[0;36m<module>\u001b[1;34m\u001b[0m\n\u001b[1;32m----> 1\u001b[1;33m \u001b[0mames\u001b[0m \u001b[1;33m=\u001b[0m \u001b[0mames\u001b[0m\u001b[1;33m.\u001b[0m\u001b[0mdrop\u001b[0m\u001b[1;33m(\u001b[0m\u001b[0mcolumns\u001b[0m \u001b[1;33m=\u001b[0m \u001b[1;34m'pid'\u001b[0m\u001b[1;33m)\u001b[0m\u001b[1;33m\u001b[0m\u001b[1;33m\u001b[0m\u001b[0m\n\u001b[0m\u001b[0;32m      2\u001b[0m \u001b[0mames\u001b[0m\u001b[1;33m.\u001b[0m\u001b[0mhead\u001b[0m\u001b[1;33m(\u001b[0m\u001b[1;33m)\u001b[0m\u001b[1;33m\u001b[0m\u001b[1;33m\u001b[0m\u001b[0m\n",
      "\u001b[1;32m~\\anaconda3-1\\lib\\site-packages\\pandas\\util\\_decorators.py\u001b[0m in \u001b[0;36mwrapper\u001b[1;34m(*args, **kwargs)\u001b[0m\n\u001b[0;32m    309\u001b[0m                     \u001b[0mstacklevel\u001b[0m\u001b[1;33m=\u001b[0m\u001b[0mstacklevel\u001b[0m\u001b[1;33m,\u001b[0m\u001b[1;33m\u001b[0m\u001b[1;33m\u001b[0m\u001b[0m\n\u001b[0;32m    310\u001b[0m                 )\n\u001b[1;32m--> 311\u001b[1;33m             \u001b[1;32mreturn\u001b[0m \u001b[0mfunc\u001b[0m\u001b[1;33m(\u001b[0m\u001b[1;33m*\u001b[0m\u001b[0margs\u001b[0m\u001b[1;33m,\u001b[0m \u001b[1;33m**\u001b[0m\u001b[0mkwargs\u001b[0m\u001b[1;33m)\u001b[0m\u001b[1;33m\u001b[0m\u001b[1;33m\u001b[0m\u001b[0m\n\u001b[0m\u001b[0;32m    312\u001b[0m \u001b[1;33m\u001b[0m\u001b[0m\n\u001b[0;32m    313\u001b[0m         \u001b[1;32mreturn\u001b[0m \u001b[0mwrapper\u001b[0m\u001b[1;33m\u001b[0m\u001b[1;33m\u001b[0m\u001b[0m\n",
      "\u001b[1;32m~\\anaconda3-1\\lib\\site-packages\\pandas\\core\\frame.py\u001b[0m in \u001b[0;36mdrop\u001b[1;34m(self, labels, axis, index, columns, level, inplace, errors)\u001b[0m\n\u001b[0;32m   4955\u001b[0m                 \u001b[0mweight\u001b[0m  \u001b[1;36m1.0\u001b[0m     \u001b[1;36m0.8\u001b[0m\u001b[1;33m\u001b[0m\u001b[1;33m\u001b[0m\u001b[0m\n\u001b[0;32m   4956\u001b[0m         \"\"\"\n\u001b[1;32m-> 4957\u001b[1;33m         return super().drop(\n\u001b[0m\u001b[0;32m   4958\u001b[0m             \u001b[0mlabels\u001b[0m\u001b[1;33m=\u001b[0m\u001b[0mlabels\u001b[0m\u001b[1;33m,\u001b[0m\u001b[1;33m\u001b[0m\u001b[1;33m\u001b[0m\u001b[0m\n\u001b[0;32m   4959\u001b[0m             \u001b[0maxis\u001b[0m\u001b[1;33m=\u001b[0m\u001b[0maxis\u001b[0m\u001b[1;33m,\u001b[0m\u001b[1;33m\u001b[0m\u001b[1;33m\u001b[0m\u001b[0m\n",
      "\u001b[1;32m~\\anaconda3-1\\lib\\site-packages\\pandas\\core\\generic.py\u001b[0m in \u001b[0;36mdrop\u001b[1;34m(self, labels, axis, index, columns, level, inplace, errors)\u001b[0m\n\u001b[0;32m   4265\u001b[0m         \u001b[1;32mfor\u001b[0m \u001b[0maxis\u001b[0m\u001b[1;33m,\u001b[0m \u001b[0mlabels\u001b[0m \u001b[1;32min\u001b[0m \u001b[0maxes\u001b[0m\u001b[1;33m.\u001b[0m\u001b[0mitems\u001b[0m\u001b[1;33m(\u001b[0m\u001b[1;33m)\u001b[0m\u001b[1;33m:\u001b[0m\u001b[1;33m\u001b[0m\u001b[1;33m\u001b[0m\u001b[0m\n\u001b[0;32m   4266\u001b[0m             \u001b[1;32mif\u001b[0m \u001b[0mlabels\u001b[0m \u001b[1;32mis\u001b[0m \u001b[1;32mnot\u001b[0m \u001b[1;32mNone\u001b[0m\u001b[1;33m:\u001b[0m\u001b[1;33m\u001b[0m\u001b[1;33m\u001b[0m\u001b[0m\n\u001b[1;32m-> 4267\u001b[1;33m                 \u001b[0mobj\u001b[0m \u001b[1;33m=\u001b[0m \u001b[0mobj\u001b[0m\u001b[1;33m.\u001b[0m\u001b[0m_drop_axis\u001b[0m\u001b[1;33m(\u001b[0m\u001b[0mlabels\u001b[0m\u001b[1;33m,\u001b[0m \u001b[0maxis\u001b[0m\u001b[1;33m,\u001b[0m \u001b[0mlevel\u001b[0m\u001b[1;33m=\u001b[0m\u001b[0mlevel\u001b[0m\u001b[1;33m,\u001b[0m \u001b[0merrors\u001b[0m\u001b[1;33m=\u001b[0m\u001b[0merrors\u001b[0m\u001b[1;33m)\u001b[0m\u001b[1;33m\u001b[0m\u001b[1;33m\u001b[0m\u001b[0m\n\u001b[0m\u001b[0;32m   4268\u001b[0m \u001b[1;33m\u001b[0m\u001b[0m\n\u001b[0;32m   4269\u001b[0m         \u001b[1;32mif\u001b[0m \u001b[0minplace\u001b[0m\u001b[1;33m:\u001b[0m\u001b[1;33m\u001b[0m\u001b[1;33m\u001b[0m\u001b[0m\n",
      "\u001b[1;32m~\\anaconda3-1\\lib\\site-packages\\pandas\\core\\generic.py\u001b[0m in \u001b[0;36m_drop_axis\u001b[1;34m(self, labels, axis, level, errors, consolidate, only_slice)\u001b[0m\n\u001b[0;32m   4309\u001b[0m                 \u001b[0mnew_axis\u001b[0m \u001b[1;33m=\u001b[0m \u001b[0maxis\u001b[0m\u001b[1;33m.\u001b[0m\u001b[0mdrop\u001b[0m\u001b[1;33m(\u001b[0m\u001b[0mlabels\u001b[0m\u001b[1;33m,\u001b[0m \u001b[0mlevel\u001b[0m\u001b[1;33m=\u001b[0m\u001b[0mlevel\u001b[0m\u001b[1;33m,\u001b[0m \u001b[0merrors\u001b[0m\u001b[1;33m=\u001b[0m\u001b[0merrors\u001b[0m\u001b[1;33m)\u001b[0m\u001b[1;33m\u001b[0m\u001b[1;33m\u001b[0m\u001b[0m\n\u001b[0;32m   4310\u001b[0m             \u001b[1;32melse\u001b[0m\u001b[1;33m:\u001b[0m\u001b[1;33m\u001b[0m\u001b[1;33m\u001b[0m\u001b[0m\n\u001b[1;32m-> 4311\u001b[1;33m                 \u001b[0mnew_axis\u001b[0m \u001b[1;33m=\u001b[0m \u001b[0maxis\u001b[0m\u001b[1;33m.\u001b[0m\u001b[0mdrop\u001b[0m\u001b[1;33m(\u001b[0m\u001b[0mlabels\u001b[0m\u001b[1;33m,\u001b[0m \u001b[0merrors\u001b[0m\u001b[1;33m=\u001b[0m\u001b[0merrors\u001b[0m\u001b[1;33m)\u001b[0m\u001b[1;33m\u001b[0m\u001b[1;33m\u001b[0m\u001b[0m\n\u001b[0m\u001b[0;32m   4312\u001b[0m             \u001b[0mindexer\u001b[0m \u001b[1;33m=\u001b[0m \u001b[0maxis\u001b[0m\u001b[1;33m.\u001b[0m\u001b[0mget_indexer\u001b[0m\u001b[1;33m(\u001b[0m\u001b[0mnew_axis\u001b[0m\u001b[1;33m)\u001b[0m\u001b[1;33m\u001b[0m\u001b[1;33m\u001b[0m\u001b[0m\n\u001b[0;32m   4313\u001b[0m \u001b[1;33m\u001b[0m\u001b[0m\n",
      "\u001b[1;32m~\\anaconda3-1\\lib\\site-packages\\pandas\\core\\indexes\\base.py\u001b[0m in \u001b[0;36mdrop\u001b[1;34m(self, labels, errors)\u001b[0m\n\u001b[0;32m   6659\u001b[0m         \u001b[1;32mif\u001b[0m \u001b[0mmask\u001b[0m\u001b[1;33m.\u001b[0m\u001b[0many\u001b[0m\u001b[1;33m(\u001b[0m\u001b[1;33m)\u001b[0m\u001b[1;33m:\u001b[0m\u001b[1;33m\u001b[0m\u001b[1;33m\u001b[0m\u001b[0m\n\u001b[0;32m   6660\u001b[0m             \u001b[1;32mif\u001b[0m \u001b[0merrors\u001b[0m \u001b[1;33m!=\u001b[0m \u001b[1;34m\"ignore\"\u001b[0m\u001b[1;33m:\u001b[0m\u001b[1;33m\u001b[0m\u001b[1;33m\u001b[0m\u001b[0m\n\u001b[1;32m-> 6661\u001b[1;33m                 \u001b[1;32mraise\u001b[0m \u001b[0mKeyError\u001b[0m\u001b[1;33m(\u001b[0m\u001b[1;34mf\"{list(labels[mask])} not found in axis\"\u001b[0m\u001b[1;33m)\u001b[0m\u001b[1;33m\u001b[0m\u001b[1;33m\u001b[0m\u001b[0m\n\u001b[0m\u001b[0;32m   6662\u001b[0m             \u001b[0mindexer\u001b[0m \u001b[1;33m=\u001b[0m \u001b[0mindexer\u001b[0m\u001b[1;33m[\u001b[0m\u001b[1;33m~\u001b[0m\u001b[0mmask\u001b[0m\u001b[1;33m]\u001b[0m\u001b[1;33m\u001b[0m\u001b[1;33m\u001b[0m\u001b[0m\n\u001b[0;32m   6663\u001b[0m         \u001b[1;32mreturn\u001b[0m \u001b[0mself\u001b[0m\u001b[1;33m.\u001b[0m\u001b[0mdelete\u001b[0m\u001b[1;33m(\u001b[0m\u001b[0mindexer\u001b[0m\u001b[1;33m)\u001b[0m\u001b[1;33m\u001b[0m\u001b[1;33m\u001b[0m\u001b[0m\n",
      "\u001b[1;31mKeyError\u001b[0m: \"['pid'] not found in axis\""
     ]
    }
   ],
   "source": [
    "ames = ames.drop(columns = 'pid')\n"
   ]
  },
  {
   "cell_type": "code",
   "execution_count": 19,
   "id": "f254357a",
   "metadata": {},
   "outputs": [],
   "source": [
    "test_final = ames[['id','ms_subclass', 'ms_zoning', 'lot_frontage', 'lot_area',\n",
    "       'lot_shape', 'land_contour', 'utilities', 'land_slope', 'overall_qual',\n",
    "       'overall_cond', 'year_built', 'year_remod/add', 'mas_vnr_area',\n",
    "       'exter_qual', 'exter_cond', 'bsmt_qual', 'bsmt_cond', 'bsmt_exposure',\n",
    "       'bsmtfin_type_1', 'bsmtfin_sf_1', 'bsmtfin_type_2', 'bsmtfin_sf_2',\n",
    "       'bsmt_unf_sf', 'total_bsmt_sf', 'heating_qc', 'central_air',\n",
    "       'electrical', '1st_flr_sf', '2nd_flr_sf', 'low_qual_fin_sf',\n",
    "       'gr_liv_area', 'bsmt_full_bath', 'bsmt_half_bath', 'full_bath',\n",
    "       'half_bath', 'bedroom_abvgr', 'kitchen_abvgr', 'kitchen_qual',\n",
    "       'totrms_abvgrd', 'functional', 'fireplaces', 'fireplace_qu',\n",
    "       'garage_yr_blt', 'garage_finish', 'garage_cars', 'garage_area',\n",
    "       'garage_qual', 'garage_cond', 'paved_drive', 'wood_deck_sf',\n",
    "       'open_porch_sf', 'enclosed_porch', '3ssn_porch', 'screen_porch',\n",
    "       'pool_area', 'pool_qc', 'fence', 'misc_val', 'mo_sold', 'yr_sold'\n",
    "       ]]"
   ]
  },
  {
   "cell_type": "code",
   "execution_count": 21,
   "id": "fe2da2dc",
   "metadata": {},
   "outputs": [
    {
     "data": {
      "text/html": [
       "<div>\n",
       "<style scoped>\n",
       "    .dataframe tbody tr th:only-of-type {\n",
       "        vertical-align: middle;\n",
       "    }\n",
       "\n",
       "    .dataframe tbody tr th {\n",
       "        vertical-align: top;\n",
       "    }\n",
       "\n",
       "    .dataframe thead th {\n",
       "        text-align: right;\n",
       "    }\n",
       "</style>\n",
       "<table border=\"1\" class=\"dataframe\">\n",
       "  <thead>\n",
       "    <tr style=\"text-align: right;\">\n",
       "      <th></th>\n",
       "      <th>id</th>\n",
       "      <th>ms_subclass</th>\n",
       "      <th>ms_zoning</th>\n",
       "      <th>lot_frontage</th>\n",
       "      <th>lot_area</th>\n",
       "      <th>lot_shape</th>\n",
       "      <th>land_contour</th>\n",
       "      <th>utilities</th>\n",
       "      <th>land_slope</th>\n",
       "      <th>overall_qual</th>\n",
       "      <th>...</th>\n",
       "      <th>open_porch_sf</th>\n",
       "      <th>enclosed_porch</th>\n",
       "      <th>3ssn_porch</th>\n",
       "      <th>screen_porch</th>\n",
       "      <th>pool_area</th>\n",
       "      <th>pool_qc</th>\n",
       "      <th>fence</th>\n",
       "      <th>misc_val</th>\n",
       "      <th>mo_sold</th>\n",
       "      <th>yr_sold</th>\n",
       "    </tr>\n",
       "  </thead>\n",
       "  <tbody>\n",
       "    <tr>\n",
       "      <th>0</th>\n",
       "      <td>2658</td>\n",
       "      <td>190</td>\n",
       "      <td>1</td>\n",
       "      <td>69.0</td>\n",
       "      <td>9142</td>\n",
       "      <td>4</td>\n",
       "      <td>2</td>\n",
       "      <td>4</td>\n",
       "      <td>3</td>\n",
       "      <td>6</td>\n",
       "      <td>...</td>\n",
       "      <td>60</td>\n",
       "      <td>112</td>\n",
       "      <td>0</td>\n",
       "      <td>0</td>\n",
       "      <td>0</td>\n",
       "      <td>1</td>\n",
       "      <td>1</td>\n",
       "      <td>0</td>\n",
       "      <td>4</td>\n",
       "      <td>2006</td>\n",
       "    </tr>\n",
       "    <tr>\n",
       "      <th>1</th>\n",
       "      <td>2718</td>\n",
       "      <td>90</td>\n",
       "      <td>3</td>\n",
       "      <td>70.0</td>\n",
       "      <td>9662</td>\n",
       "      <td>3</td>\n",
       "      <td>2</td>\n",
       "      <td>4</td>\n",
       "      <td>3</td>\n",
       "      <td>5</td>\n",
       "      <td>...</td>\n",
       "      <td>0</td>\n",
       "      <td>0</td>\n",
       "      <td>0</td>\n",
       "      <td>0</td>\n",
       "      <td>0</td>\n",
       "      <td>1</td>\n",
       "      <td>1</td>\n",
       "      <td>0</td>\n",
       "      <td>8</td>\n",
       "      <td>2006</td>\n",
       "    </tr>\n",
       "    <tr>\n",
       "      <th>2</th>\n",
       "      <td>2414</td>\n",
       "      <td>60</td>\n",
       "      <td>3</td>\n",
       "      <td>58.0</td>\n",
       "      <td>17104</td>\n",
       "      <td>3</td>\n",
       "      <td>2</td>\n",
       "      <td>4</td>\n",
       "      <td>3</td>\n",
       "      <td>7</td>\n",
       "      <td>...</td>\n",
       "      <td>24</td>\n",
       "      <td>0</td>\n",
       "      <td>0</td>\n",
       "      <td>0</td>\n",
       "      <td>0</td>\n",
       "      <td>1</td>\n",
       "      <td>1</td>\n",
       "      <td>0</td>\n",
       "      <td>9</td>\n",
       "      <td>2006</td>\n",
       "    </tr>\n",
       "    <tr>\n",
       "      <th>3</th>\n",
       "      <td>1989</td>\n",
       "      <td>30</td>\n",
       "      <td>1</td>\n",
       "      <td>60.0</td>\n",
       "      <td>8520</td>\n",
       "      <td>4</td>\n",
       "      <td>2</td>\n",
       "      <td>4</td>\n",
       "      <td>3</td>\n",
       "      <td>5</td>\n",
       "      <td>...</td>\n",
       "      <td>0</td>\n",
       "      <td>184</td>\n",
       "      <td>0</td>\n",
       "      <td>0</td>\n",
       "      <td>0</td>\n",
       "      <td>1</td>\n",
       "      <td>1</td>\n",
       "      <td>0</td>\n",
       "      <td>7</td>\n",
       "      <td>2007</td>\n",
       "    </tr>\n",
       "    <tr>\n",
       "      <th>4</th>\n",
       "      <td>625</td>\n",
       "      <td>20</td>\n",
       "      <td>3</td>\n",
       "      <td>70.0</td>\n",
       "      <td>9500</td>\n",
       "      <td>3</td>\n",
       "      <td>2</td>\n",
       "      <td>4</td>\n",
       "      <td>3</td>\n",
       "      <td>6</td>\n",
       "      <td>...</td>\n",
       "      <td>76</td>\n",
       "      <td>0</td>\n",
       "      <td>0</td>\n",
       "      <td>185</td>\n",
       "      <td>0</td>\n",
       "      <td>1</td>\n",
       "      <td>1</td>\n",
       "      <td>0</td>\n",
       "      <td>7</td>\n",
       "      <td>2009</td>\n",
       "    </tr>\n",
       "  </tbody>\n",
       "</table>\n",
       "<p>5 rows × 61 columns</p>\n",
       "</div>"
      ],
      "text/plain": [
       "     id  ms_subclass  ms_zoning  lot_frontage  lot_area  lot_shape  \\\n",
       "0  2658          190          1          69.0      9142          4   \n",
       "1  2718           90          3          70.0      9662          3   \n",
       "2  2414           60          3          58.0     17104          3   \n",
       "3  1989           30          1          60.0      8520          4   \n",
       "4   625           20          3          70.0      9500          3   \n",
       "\n",
       "   land_contour  utilities  land_slope  overall_qual  ...  open_porch_sf  \\\n",
       "0             2          4           3             6  ...             60   \n",
       "1             2          4           3             5  ...              0   \n",
       "2             2          4           3             7  ...             24   \n",
       "3             2          4           3             5  ...              0   \n",
       "4             2          4           3             6  ...             76   \n",
       "\n",
       "   enclosed_porch  3ssn_porch  screen_porch  pool_area  pool_qc  fence  \\\n",
       "0             112           0             0          0        1      1   \n",
       "1               0           0             0          0        1      1   \n",
       "2               0           0             0          0        1      1   \n",
       "3             184           0             0          0        1      1   \n",
       "4               0           0           185          0        1      1   \n",
       "\n",
       "   misc_val  mo_sold  yr_sold  \n",
       "0         0        4     2006  \n",
       "1         0        8     2006  \n",
       "2         0        9     2006  \n",
       "3         0        7     2007  \n",
       "4         0        7     2009  \n",
       "\n",
       "[5 rows x 61 columns]"
      ]
     },
     "execution_count": 21,
     "metadata": {},
     "output_type": "execute_result"
    }
   ],
   "source": [
    "test_final.head()"
   ]
  },
  {
   "cell_type": "code",
   "execution_count": 28,
   "id": "6929c750",
   "metadata": {},
   "outputs": [
    {
     "data": {
      "text/plain": [
       "(825, 61)"
      ]
     },
     "execution_count": 28,
     "metadata": {},
     "output_type": "execute_result"
    }
   ],
   "source": [
    "test_final.shape"
   ]
  },
  {
   "cell_type": "code",
   "execution_count": 27,
   "id": "45c8a6ea",
   "metadata": {},
   "outputs": [],
   "source": [
    "test_final.to_csv('../data/final_test.csv')"
   ]
  },
  {
   "cell_type": "code",
   "execution_count": null,
   "id": "3043a1e1",
   "metadata": {},
   "outputs": [],
   "source": []
  }
 ],
 "metadata": {
  "kernelspec": {
   "display_name": "Python 3 (ipykernel)",
   "language": "python",
   "name": "python3"
  },
  "language_info": {
   "codemirror_mode": {
    "name": "ipython",
    "version": 3
   },
   "file_extension": ".py",
   "mimetype": "text/x-python",
   "name": "python",
   "nbconvert_exporter": "python",
   "pygments_lexer": "ipython3",
   "version": "3.9.13"
  }
 },
 "nbformat": 4,
 "nbformat_minor": 5
}
